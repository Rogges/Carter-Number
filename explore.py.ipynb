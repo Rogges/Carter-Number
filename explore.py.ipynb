{
 "cells": [
  {
   "cell_type": "code",
   "execution_count": 1,
   "metadata": {},
   "outputs": [],
   "source": [
    "import pandas as pd\n",
    "import numpy as np\n",
    "import matplotlib.pyplot as plt"
   ]
  },
  {
   "cell_type": "code",
   "execution_count": 2,
   "metadata": {},
   "outputs": [],
   "source": [
    "data = pd.read_csv('Carter_Number.csv')"
   ]
  },
  {
   "cell_type": "code",
   "execution_count": 3,
   "metadata": {},
   "outputs": [
    {
     "data": {
      "text/html": [
       "<div>\n",
       "<style scoped>\n",
       "    .dataframe tbody tr th:only-of-type {\n",
       "        vertical-align: middle;\n",
       "    }\n",
       "\n",
       "    .dataframe tbody tr th {\n",
       "        vertical-align: top;\n",
       "    }\n",
       "\n",
       "    .dataframe thead th {\n",
       "        text-align: right;\n",
       "    }\n",
       "</style>\n",
       "<table border=\"1\" class=\"dataframe\">\n",
       "  <thead>\n",
       "    <tr style=\"text-align: right;\">\n",
       "      <th></th>\n",
       "      <th>Unnamed: 0</th>\n",
       "      <th>Carter Number</th>\n",
       "      <th>Name</th>\n",
       "    </tr>\n",
       "  </thead>\n",
       "  <tbody>\n",
       "    <tr>\n",
       "      <th>0</th>\n",
       "      <td>choneji01</td>\n",
       "      <td>3</td>\n",
       "      <td>Jim Chones</td>\n",
       "    </tr>\n",
       "    <tr>\n",
       "      <th>1</th>\n",
       "      <td>laceysa01</td>\n",
       "      <td>3</td>\n",
       "      <td>Sam Lacey</td>\n",
       "    </tr>\n",
       "    <tr>\n",
       "      <th>2</th>\n",
       "      <td>boonero01</td>\n",
       "      <td>3</td>\n",
       "      <td>Ron Boone</td>\n",
       "    </tr>\n",
       "    <tr>\n",
       "      <th>3</th>\n",
       "      <td>kupchmi01</td>\n",
       "      <td>3</td>\n",
       "      <td>Mitch Kupchak</td>\n",
       "    </tr>\n",
       "    <tr>\n",
       "      <th>4</th>\n",
       "      <td>snydedi01</td>\n",
       "      <td>3</td>\n",
       "      <td>Dick Snyder</td>\n",
       "    </tr>\n",
       "  </tbody>\n",
       "</table>\n",
       "</div>"
      ],
      "text/plain": [
       "  Unnamed: 0  Carter Number           Name\n",
       "0  choneji01              3     Jim Chones\n",
       "1  laceysa01              3      Sam Lacey\n",
       "2  boonero01              3      Ron Boone\n",
       "3  kupchmi01              3  Mitch Kupchak\n",
       "4  snydedi01              3    Dick Snyder"
      ]
     },
     "execution_count": 3,
     "metadata": {},
     "output_type": "execute_result"
    }
   ],
   "source": [
    "data.head()"
   ]
  },
  {
   "cell_type": "code",
   "execution_count": 4,
   "metadata": {},
   "outputs": [
    {
     "data": {
      "text/plain": [
       "4"
      ]
     },
     "execution_count": 4,
     "metadata": {},
     "output_type": "execute_result"
    }
   ],
   "source": [
    "data['Carter Number'].max()"
   ]
  },
  {
   "cell_type": "code",
   "execution_count": 5,
   "metadata": {},
   "outputs": [],
   "source": [
    "freq, bins = np.histogram(data['Carter Number'], bins=[1,2,3,4,5], density=True)"
   ]
  },
  {
   "cell_type": "code",
   "execution_count": 6,
   "metadata": {},
   "outputs": [
    {
     "data": {
      "image/png": "[encoded data removed]",
      "text/plain": [
       "<Figure size 720x360 with 1 Axes>"
      ]
     },
     "metadata": {
      "needs_background": "light"
     },
     "output_type": "display_data"
    }
   ],
   "source": [
    "plt.figure(figsize=(10,5))\n",
    "plt.hist(x=data['Carter Number'],\n",
    "         bins=bins,\n",
    "         density=True,\n",
    "         align='left',\n",
    "         rwidth=0.99,\n",
    "         alpha=0.6,\n",
    "         color='blue')\n",
    "plt.xticks(ticks=[1,2,3,4])\n",
    "plt.xlabel('Carter Number',size=15)\n",
    "plt.ylabel('Frequency', size=15)\n",
    "plt.title('Carter Number Frequency of NBA Players 1977 - Current', size=20)\n",
    "plt.show()"
   ]
  },
  {
   "cell_type": "code",
   "execution_count": 7,
   "metadata": {},
   "outputs": [],
   "source": [
    "find_players = lambda x: x == 'Michael Jordan' or \\\n",
    "    x == 'Kobe Bryant' or \\\n",
    "    x == 'Tim Duncan' or \\\n",
    "    x == 'Allen Iverson' or \\\n",
    "    x == 'Lebron James' or \\\n",
    "    x == 'Larry Bird' or \\\n",
    "    x == 'Magic Johnson' or \\\n",
    "    x == 'Kareem Abdul-Jabbar' or \\\n",
    "    x == 'Julius Erving' or \\\n",
    "    x == 'Bill Walton'\n",
    "                \n",
    "greats = [find_players(i) for i in data['Name']]"
   ]
  },
  {
   "cell_type": "code",
   "execution_count": 8,
   "metadata": {},
   "outputs": [
    {
     "data": {
      "text/html": [
       "<div>\n",
       "<style scoped>\n",
       "    .dataframe tbody tr th:only-of-type {\n",
       "        vertical-align: middle;\n",
       "    }\n",
       "\n",
       "    .dataframe tbody tr th {\n",
       "        vertical-align: top;\n",
       "    }\n",
       "\n",
       "    .dataframe thead th {\n",
       "        text-align: right;\n",
       "    }\n",
       "</style>\n",
       "<table border=\"1\" class=\"dataframe\">\n",
       "  <thead>\n",
       "    <tr style=\"text-align: right;\">\n",
       "      <th></th>\n",
       "      <th>Unnamed: 0</th>\n",
       "      <th>Carter Number</th>\n",
       "      <th>Name</th>\n",
       "    </tr>\n",
       "  </thead>\n",
       "  <tbody>\n",
       "    <tr>\n",
       "      <th>13</th>\n",
       "      <td>abdulka01</td>\n",
       "      <td>3</td>\n",
       "      <td>Kareem Abdul-Jabbar</td>\n",
       "    </tr>\n",
       "    <tr>\n",
       "      <th>26</th>\n",
       "      <td>ervinju01</td>\n",
       "      <td>3</td>\n",
       "      <td>Julius Erving</td>\n",
       "    </tr>\n",
       "    <tr>\n",
       "      <th>161</th>\n",
       "      <td>waltobi01</td>\n",
       "      <td>3</td>\n",
       "      <td>Bill Walton</td>\n",
       "    </tr>\n",
       "    <tr>\n",
       "      <th>416</th>\n",
       "      <td>birdla01</td>\n",
       "      <td>2</td>\n",
       "      <td>Larry Bird</td>\n",
       "    </tr>\n",
       "    <tr>\n",
       "      <th>420</th>\n",
       "      <td>johnsma02</td>\n",
       "      <td>3</td>\n",
       "      <td>Magic Johnson</td>\n",
       "    </tr>\n",
       "    <tr>\n",
       "      <th>725</th>\n",
       "      <td>jordami01</td>\n",
       "      <td>2</td>\n",
       "      <td>Michael Jordan</td>\n",
       "    </tr>\n",
       "    <tr>\n",
       "      <th>1539</th>\n",
       "      <td>iversal01</td>\n",
       "      <td>2</td>\n",
       "      <td>Allen Iverson</td>\n",
       "    </tr>\n",
       "    <tr>\n",
       "      <th>1542</th>\n",
       "      <td>bryanko01</td>\n",
       "      <td>2</td>\n",
       "      <td>Kobe Bryant</td>\n",
       "    </tr>\n",
       "    <tr>\n",
       "      <th>1599</th>\n",
       "      <td>duncati01</td>\n",
       "      <td>2</td>\n",
       "      <td>Tim Duncan</td>\n",
       "    </tr>\n",
       "  </tbody>\n",
       "</table>\n",
       "</div>"
      ],
      "text/plain": [
       "     Unnamed: 0  Carter Number                 Name\n",
       "13    abdulka01              3  Kareem Abdul-Jabbar\n",
       "26    ervinju01              3        Julius Erving\n",
       "161   waltobi01              3          Bill Walton\n",
       "416    birdla01              2           Larry Bird\n",
       "420   johnsma02              3        Magic Johnson\n",
       "725   jordami01              2       Michael Jordan\n",
       "1539  iversal01              2        Allen Iverson\n",
       "1542  bryanko01              2          Kobe Bryant\n",
       "1599  duncati01              2           Tim Duncan"
      ]
     },
     "execution_count": 8,
     "metadata": {},
     "output_type": "execute_result"
    }
   ],
   "source": [
    "data.loc[greats]"
   ]
  },
  {
   "cell_type": "code",
   "execution_count": null,
   "metadata": {},
   "outputs": [],
   "source": []
  }
 ],
 "metadata": {
  "kernelspec": {
   "display_name": "Python 3",
   "language": "python",
   "name": "python3"
  },
  "language_info": {
   "codemirror_mode": {
    "name": "ipython",
    "version": 3
   },
   "file_extension": ".py",
   "mimetype": "text/x-python",
   "name": "python",
   "nbconvert_exporter": "python",
   "pygments_lexer": "ipython3",
   "version": "3.7.1"
  }
 },
 "nbformat": 4,
 "nbformat_minor": 2
}
