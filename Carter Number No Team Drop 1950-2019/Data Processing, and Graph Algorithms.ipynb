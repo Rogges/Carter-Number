{
 "cells": [
  {
   "cell_type": "markdown",
   "metadata": {},
   "source": [
    "# Libraries, Helper Functions, and Raw Data"
   ]
  },
  {
   "cell_type": "code",
   "execution_count": 1,
   "metadata": {},
   "outputs": [],
   "source": [
    "import re\n",
    "import glob\n",
    "import pandas as pd\n",
    "import os\n",
    "import requests\n",
    "from bs4 import BeautifulSoup as bs\n",
    "import heapq"
   ]
  },
  {
   "cell_type": "markdown",
   "metadata": {},
   "source": [
    "get_player_id extracts unique player IDs to append to the dataset and use for the graph"
   ]
  },
  {
   "cell_type": "code",
   "execution_count": 2,
   "metadata": {},
   "outputs": [],
   "source": [
    "def get_player_id(year):\n",
    "    '''\n",
    "    Get the player ids from basketball reference for \n",
    "    the totals table in a given year\n",
    "    @param int year: the year for a player\n",
    "    @rtype list: list of player ids \n",
    "    '''\n",
    "    url = 'http://www.basketball-reference.com/leagues/NBA_{}_totals.html'.format(year)\n",
    "    website = requests.get(url).text\n",
    "    soup = bs(website, 'lxml')\n",
    "    table = soup.find_all('table')[0]\n",
    "    rows = table.find_all('tr')[1:]\n",
    "    ids = [i.find_all('td') for i in rows]\n",
    "    id_list = [i[0]['data-append-csv'] for i in ids if len(i)>0]\n",
    "    return id_list"
   ]
  },
  {
   "cell_type": "markdown",
   "metadata": {},
   "source": [
    "All of the csv files are stored in the Season Data 2 folder, and glob returns a list of filepaths to iterate over"
   ]
  },
  {
   "cell_type": "code",
   "execution_count": 16,
   "metadata": {},
   "outputs": [],
   "source": [
    "path = os.getcwd() + \"\\Data\"\n",
    "\n",
    "files = glob.glob(path + \"/*.csv\")"
   ]
  },
  {
   "cell_type": "markdown",
   "metadata": {},
   "source": [
    "# Main Pipeline\n",
    "\n",
    "1. Iterates over all the files collected by the scraper\n",
    "2. Year is extracted from the filename; the graph algorithm down the road depends on a parameter that \n",
    "   is a string of the year and team concatenated together.\n",
    "3. Year is also used to get player IDs for the year which is then added as a column to the data.\n",
    "4. Players who have played 0 games that season are dropped from the data.\n",
    "5. All columns except: Games played; Player ID; Player name; Year; and Team are dropped.\n",
    "\n",
    "<br>\n",
    "<br>\n",
    "\n",
    "Basketball reference adds multiple rows for traded players. First there's n rows for the each of the \n",
    "n teams they played for in the season with their stats for each team. Then there's a TOT (total) row \n",
    "which sums all of their stats for the season, creating a total of n+1 rows where n is the number of \n",
    "teams played for.\n",
    "\n",
    "<br>\n",
    "\n",
    "6. First, the TOT row is dropped.\n",
    "\n",
    "<br>\n",
    "\n",
    "7. The last step is cutting off asterisks that get stuck on to player names when scraping from \n",
    "   Basketball Reference. E.g. Kareem Abdul-Jabbar is scraped and recorded as Kareem Abdul-Jabbar*"
   ]
  },
  {
   "cell_type": "code",
   "execution_count": 17,
   "metadata": {},
   "outputs": [],
   "source": [
    "for file in files:\n",
    "    data = pd.read_csv(file)\n",
    "    year = file.split('_')[-1].split('.')[0]\n",
    "    data[\"Year\"] = year\n",
    "    primary_list = get_player_id(year)\n",
    "    data[\"ID\"] = primary_list\n",
    "    data = data[data[\"G\"] != 0]\n",
    "    data = data[[\"Player\", \"Tm\", \"G\", \"Year\", \"ID\"]]\n",
    "    data = data[data[\"Tm\"] != \"TOT\"]\n",
    "    data[\"Player\"] = data[\"Player\"].apply(lambda x: \"\".join(x.split(\"*\")[0]))\n",
    "    data.to_csv(file)"
   ]
  },
  {
   "cell_type": "markdown",
   "metadata": {},
   "source": [
    "## Primary Dataframe"
   ]
  },
  {
   "cell_type": "markdown",
   "metadata": {},
   "source": [
    "Iterate over the newly processed files, read them in, and add them to a list."
   ]
  },
  {
   "cell_type": "code",
   "execution_count": 18,
   "metadata": {},
   "outputs": [],
   "source": [
    "dataframes = []\n",
    "\n",
    "for file in files:\n",
    "    dataframes.append(pd.read_csv(file))"
   ]
  },
  {
   "cell_type": "markdown",
   "metadata": {},
   "source": [
    "The list of dataframes is used to concatenate them all together into one large dataframe."
   ]
  },
  {
   "cell_type": "code",
   "execution_count": 19,
   "metadata": {},
   "outputs": [],
   "source": [
    "mega_frame = pd.concat(dataframes)\n",
    "mega_frame.to_csv(\"Full-table.csv\")"
   ]
  },
  {
   "cell_type": "markdown",
   "metadata": {},
   "source": [
    "# Creating the Graph"
   ]
  },
  {
   "cell_type": "markdown",
   "metadata": {},
   "source": [
    "Tm_year column is created in the large dataframe at this point, as indicated previously"
   ]
  },
  {
   "cell_type": "code",
   "execution_count": 20,
   "metadata": {},
   "outputs": [],
   "source": [
    "mega_frame['Tm_year'] = mega_frame['Tm'] + [str(i) for i in mega_frame['Year']]"
   ]
  },
  {
   "cell_type": "markdown",
   "metadata": {},
   "source": [
    "Creating a dictionary where the keys are Tm_year and the values are lists of the IDs of the players who played for a specific team in a given year."
   ]
  },
  {
   "cell_type": "code",
   "execution_count": 21,
   "metadata": {},
   "outputs": [],
   "source": [
    "mega_frame.set_index(\"Tm_year\").to_dict()\n",
    "\n",
    "tm_year_ids = {}\n",
    "\n",
    "for year in mega_frame.Tm_year.unique():\n",
    "    values = list(mega_frame[mega_frame[\"Tm_year\"] == year][\"ID\"])\n",
    "    tm_year_ids[year] = values"
   ]
  },
  {
   "cell_type": "markdown",
   "metadata": {},
   "source": [
    "id_name stores a pairing of a player ID to their actual name. inv_map reverses the key, value pairing in id_name.\n",
    "\n",
    "<br>\n",
    "\n",
    "Both dictionaries are used as lookup tables"
   ]
  },
  {
   "cell_type": "code",
   "execution_count": 22,
   "metadata": {},
   "outputs": [],
   "source": [
    "id_name = {}\n",
    "\n",
    "for id1 in mega_frame.ID.unique():\n",
    "    key = mega_frame[mega_frame[\"ID\"] == id1][\"Player\"].iloc[0]\n",
    "    id_name[id1] = key\n",
    "\n",
    "inv_map = {v: k for k, v in id_name.items()}"
   ]
  },
  {
   "cell_type": "markdown",
   "metadata": {},
   "source": [
    "Pairs a player ID with a list of all their direct teammates ever. \n",
    "\n",
    "<br>\n",
    "\n",
    "I'm not enthused about writing in n^3 complexity but it's a n^2 problem and the dataset is small so it doesn't really matter."
   ]
  },
  {
   "cell_type": "code",
   "execution_count": 23,
   "metadata": {},
   "outputs": [],
   "source": [
    "teammates = {}\n",
    "\n",
    "for id1 in list(id_name.keys()):\n",
    "    teammates[id1] = set()\n",
    "    for teammates2 in list(tm_year_ids.values()):\n",
    "        if id1 in teammates2:\n",
    "            new_copy = [player for player in teammates2 if player != id1]\n",
    "            for teammate in new_copy:\n",
    "                teammates[id1].add(teammate)"
   ]
  },
  {
   "cell_type": "markdown",
   "metadata": {},
   "source": [
    "### Final Graph Representation\n",
    "\n",
    "<br>\n",
    "\n",
    "The previous teammates dictionary paired players to a list of their direct teammates. new_teammates pairs player IDs to a dictionary of their teammates, where the teammates are paired to the number 1. This is done to facilitate the running of the graph algorithm in the next cell."
   ]
  },
  {
   "cell_type": "code",
   "execution_count": 24,
   "metadata": {},
   "outputs": [],
   "source": [
    "new_teammates = {k: dict.fromkeys(v, 1) for k, v in teammates.items()}"
   ]
  },
  {
   "cell_type": "markdown",
   "metadata": {},
   "source": [
    "### Graph Algorithm\n",
    "\n",
    "<br>\n",
    "\n",
    "Calculates the Carter Number of each player."
   ]
  },
  {
   "cell_type": "code",
   "execution_count": 25,
   "metadata": {},
   "outputs": [],
   "source": [
    "def calculate_distances(graph, starting_vertex):\n",
    "    distances = {vertex: float('infinity') for vertex in graph}\n",
    "    distances[starting_vertex] = 0\n",
    "\n",
    "    entry_lookup = {}\n",
    "    pq = []\n",
    "\n",
    "    for vertex, distance in distances.items():\n",
    "        entry = [distance, vertex]\n",
    "        entry_lookup[vertex] = entry\n",
    "        heapq.heappush(pq, entry)\n",
    "\n",
    "    while len(pq) > 0:\n",
    "        current_distance, current_vertex = heapq.heappop(pq)\n",
    "\n",
    "        for neighbor, neighbor_distance in graph[current_vertex].items():\n",
    "            distance = distances[current_vertex] + neighbor_distance\n",
    "            if distance < distances[neighbor]:\n",
    "                distances[neighbor] = distance\n",
    "                entry_lookup[neighbor][0] = distance\n",
    "\n",
    "    return distances"
   ]
  },
  {
   "cell_type": "markdown",
   "metadata": {},
   "source": [
    "# Carter Number Dataframe\n",
    "\n",
    "<br>\n",
    "\n",
    "The Carter Number is calculated for all players. Then the dictionary is shaped into a dataframe and a new column with player names is added to facilitate comparisons."
   ]
  },
  {
   "cell_type": "code",
   "execution_count": 26,
   "metadata": {},
   "outputs": [],
   "source": [
    "carter_number = calculate_distances(new_teammates, 'cartevi01')"
   ]
  },
  {
   "cell_type": "code",
   "execution_count": 27,
   "metadata": {},
   "outputs": [],
   "source": [
    "carter_frame = pd.DataFrame.from_dict(data = carter_number, orient = \"index\")\n",
    "\n",
    "carter_frame[\"Name\"] = carter_frame.index.map(lambda x: id_name[x])"
   ]
  },
  {
   "cell_type": "code",
   "execution_count": 28,
   "metadata": {},
   "outputs": [],
   "source": [
    "carter_frame = carter_frame.rename(columns = {0: \"Carter Number\"})\n",
    "carter_frame.to_csv(\"Carter_Number.csv\")"
   ]
  },
  {
   "cell_type": "code",
   "execution_count": 29,
   "metadata": {},
   "outputs": [],
   "source": [
    "import json\n",
    "\n",
    "with open('carter.json', 'w') as fp:\n",
    "    json.dump(carter_number, fp)"
   ]
  },
  {
   "cell_type": "code",
   "execution_count": null,
   "metadata": {},
   "outputs": [],
   "source": []
  }
 ],
 "metadata": {
  "kernelspec": {
   "display_name": "Python 3",
   "language": "python",
   "name": "python3"
  },
  "language_info": {
   "codemirror_mode": {
    "name": "ipython",
    "version": 3
   },
   "file_extension": ".py",
   "mimetype": "text/x-python",
   "name": "python",
   "nbconvert_exporter": "python",
   "pygments_lexer": "ipython3",
   "version": "3.7.1"
  }
 },
 "nbformat": 4,
 "nbformat_minor": 2
}
