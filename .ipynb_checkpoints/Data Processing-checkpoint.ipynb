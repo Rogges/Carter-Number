{
 "cells": [
  {
   "cell_type": "code",
   "execution_count": 4,
   "metadata": {},
   "outputs": [],
   "source": [
    "import re\n",
    "import glob\n",
    "import pandas as pd\n",
    "import os"
   ]
  },
  {
   "cell_type": "code",
   "execution_count": 16,
   "metadata": {},
   "outputs": [],
   "source": [
    "path = os.getcwd() + \"\\Season Data 2\"\n",
    "\n",
    "files = glob.glob(path + \"/*.csv\")"
   ]
  },
  {
   "cell_type": "code",
   "execution_count": 43,
   "metadata": {},
   "outputs": [
    {
     "data": {
      "text/html": [
       "<div>\n",
       "<style scoped>\n",
       "    .dataframe tbody tr th:only-of-type {\n",
       "        vertical-align: middle;\n",
       "    }\n",
       "\n",
       "    .dataframe tbody tr th {\n",
       "        vertical-align: top;\n",
       "    }\n",
       "\n",
       "    .dataframe thead th {\n",
       "        text-align: right;\n",
       "    }\n",
       "</style>\n",
       "<table border=\"1\" class=\"dataframe\">\n",
       "  <thead>\n",
       "    <tr style=\"text-align: right;\">\n",
       "      <th></th>\n",
       "      <th>Unnamed: 0</th>\n",
       "      <th>Player</th>\n",
       "      <th>Tm</th>\n",
       "      <th>G</th>\n",
       "      <th>Year</th>\n",
       "    </tr>\n",
       "  </thead>\n",
       "  <tbody>\n",
       "    <tr>\n",
       "      <th>7</th>\n",
       "      <td>7</td>\n",
       "      <td>Victor Alexander</td>\n",
       "      <td>GSW</td>\n",
       "      <td>80</td>\n",
       "      <td>1992</td>\n",
       "    </tr>\n",
       "    <tr>\n",
       "      <th>17</th>\n",
       "      <td>18</td>\n",
       "      <td>Vincent Askew</td>\n",
       "      <td>GSW</td>\n",
       "      <td>80</td>\n",
       "      <td>1992</td>\n",
       "    </tr>\n",
       "    <tr>\n",
       "      <th>62</th>\n",
       "      <td>69</td>\n",
       "      <td>Matt Bullard</td>\n",
       "      <td>HOU</td>\n",
       "      <td>80</td>\n",
       "      <td>1992</td>\n",
       "    </tr>\n",
       "    <tr>\n",
       "      <th>72</th>\n",
       "      <td>79</td>\n",
       "      <td>Duane Causwell</td>\n",
       "      <td>SAC</td>\n",
       "      <td>80</td>\n",
       "      <td>1992</td>\n",
       "    </tr>\n",
       "    <tr>\n",
       "      <th>158</th>\n",
       "      <td>171</td>\n",
       "      <td>Sidney Green</td>\n",
       "      <td>SAS</td>\n",
       "      <td>80</td>\n",
       "      <td>1992</td>\n",
       "    </tr>\n",
       "    <tr>\n",
       "      <th>193</th>\n",
       "      <td>211</td>\n",
       "      <td>Buck Johnson</td>\n",
       "      <td>HOU</td>\n",
       "      <td>80</td>\n",
       "      <td>1992</td>\n",
       "    </tr>\n",
       "    <tr>\n",
       "      <th>199</th>\n",
       "      <td>217</td>\n",
       "      <td>Michael Jordan*</td>\n",
       "      <td>CHI</td>\n",
       "      <td>80</td>\n",
       "      <td>1992</td>\n",
       "    </tr>\n",
       "    <tr>\n",
       "      <th>245</th>\n",
       "      <td>265</td>\n",
       "      <td>Vernon Maxwell</td>\n",
       "      <td>HOU</td>\n",
       "      <td>80</td>\n",
       "      <td>1992</td>\n",
       "    </tr>\n",
       "    <tr>\n",
       "      <th>281</th>\n",
       "      <td>303</td>\n",
       "      <td>Billy Owens</td>\n",
       "      <td>GSW</td>\n",
       "      <td>80</td>\n",
       "      <td>1992</td>\n",
       "    </tr>\n",
       "    <tr>\n",
       "      <th>292</th>\n",
       "      <td>315</td>\n",
       "      <td>Tim Perry</td>\n",
       "      <td>PHO</td>\n",
       "      <td>80</td>\n",
       "      <td>1992</td>\n",
       "    </tr>\n",
       "    <tr>\n",
       "      <th>316</th>\n",
       "      <td>341</td>\n",
       "      <td>Mitch Richmond*</td>\n",
       "      <td>SAC</td>\n",
       "      <td>80</td>\n",
       "      <td>1992</td>\n",
       "    </tr>\n",
       "    <tr>\n",
       "      <th>319</th>\n",
       "      <td>344</td>\n",
       "      <td>Fred Roberts</td>\n",
       "      <td>MIL</td>\n",
       "      <td>80</td>\n",
       "      <td>1992</td>\n",
       "    </tr>\n",
       "    <tr>\n",
       "      <th>341</th>\n",
       "      <td>368</td>\n",
       "      <td>Detlef Schrempf</td>\n",
       "      <td>IND</td>\n",
       "      <td>80</td>\n",
       "      <td>1992</td>\n",
       "    </tr>\n",
       "    <tr>\n",
       "      <th>377</th>\n",
       "      <td>406</td>\n",
       "      <td>LaSalle Thompson</td>\n",
       "      <td>IND</td>\n",
       "      <td>80</td>\n",
       "      <td>1992</td>\n",
       "    </tr>\n",
       "    <tr>\n",
       "      <th>397</th>\n",
       "      <td>427</td>\n",
       "      <td>Doug West</td>\n",
       "      <td>MIN</td>\n",
       "      <td>80</td>\n",
       "      <td>1992</td>\n",
       "    </tr>\n",
       "    <tr>\n",
       "      <th>407</th>\n",
       "      <td>438</td>\n",
       "      <td>Buck Williams</td>\n",
       "      <td>POR</td>\n",
       "      <td>80</td>\n",
       "      <td>1992</td>\n",
       "    </tr>\n",
       "    <tr>\n",
       "      <th>409</th>\n",
       "      <td>440</td>\n",
       "      <td>Hot Rod Williams</td>\n",
       "      <td>CLE</td>\n",
       "      <td>80</td>\n",
       "      <td>1992</td>\n",
       "    </tr>\n",
       "  </tbody>\n",
       "</table>\n",
       "</div>"
      ],
      "text/plain": [
       "     Unnamed: 0            Player   Tm   G  Year\n",
       "7             7  Victor Alexander  GSW  80  1992\n",
       "17           18     Vincent Askew  GSW  80  1992\n",
       "62           69      Matt Bullard  HOU  80  1992\n",
       "72           79    Duane Causwell  SAC  80  1992\n",
       "158         171      Sidney Green  SAS  80  1992\n",
       "193         211      Buck Johnson  HOU  80  1992\n",
       "199         217   Michael Jordan*  CHI  80  1992\n",
       "245         265    Vernon Maxwell  HOU  80  1992\n",
       "281         303       Billy Owens  GSW  80  1992\n",
       "292         315         Tim Perry  PHO  80  1992\n",
       "316         341   Mitch Richmond*  SAC  80  1992\n",
       "319         344      Fred Roberts  MIL  80  1992\n",
       "341         368   Detlef Schrempf  IND  80  1992\n",
       "377         406  LaSalle Thompson  IND  80  1992\n",
       "397         427         Doug West  MIN  80  1992\n",
       "407         438     Buck Williams  POR  80  1992\n",
       "409         440  Hot Rod Williams  CLE  80  1992"
      ]
     },
     "execution_count": 43,
     "metadata": {},
     "output_type": "execute_result"
    }
   ],
   "source": [
    "three = pd.read_csv(files[15])\n",
    "no_games = three[three[\"G\"] == 80]\n",
    "no_games"
   ]
  },
  {
   "cell_type": "code",
   "execution_count": 45,
   "metadata": {},
   "outputs": [],
   "source": [
    "for file in files:\n",
    "    data = pd.read_csv(file)\n",
    "    data = data[data[\"G\"] != 0]\n",
    "    data = data[[\"Player\", \"Tm\", \"G\"]]\n",
    "    data = data[data[\"Tm\"] != \"TOT\"]\n",
    "    data[\"Year\"] = file.split('_')[-1].split('.')[0]\n",
    "    data = data.sort_values(by = [\"G\"], ascending = False).drop_duplicates([\"Player\"], keep = \"first\")\n",
    "    data[\"Player\"] = data[\"Player\"].apply(lambda x: \"\".join(x.split(\"*\")[0]))\n",
    "    data.to_csv(file)"
   ]
  },
  {
   "cell_type": "code",
   "execution_count": 48,
   "metadata": {},
   "outputs": [
    {
     "data": {
      "text/html": [
       "<div>\n",
       "<style scoped>\n",
       "    .dataframe tbody tr th:only-of-type {\n",
       "        vertical-align: middle;\n",
       "    }\n",
       "\n",
       "    .dataframe tbody tr th {\n",
       "        vertical-align: top;\n",
       "    }\n",
       "\n",
       "    .dataframe thead th {\n",
       "        text-align: right;\n",
       "    }\n",
       "</style>\n",
       "<table border=\"1\" class=\"dataframe\">\n",
       "  <thead>\n",
       "    <tr style=\"text-align: right;\">\n",
       "      <th></th>\n",
       "      <th>Unnamed: 0</th>\n",
       "      <th>Player</th>\n",
       "      <th>Tm</th>\n",
       "      <th>G</th>\n",
       "      <th>Year</th>\n",
       "    </tr>\n",
       "  </thead>\n",
       "  <tbody>\n",
       "    <tr>\n",
       "      <th>13</th>\n",
       "      <td>1</td>\n",
       "      <td>Kareem Abdul-Jabbar</td>\n",
       "      <td>LAL</td>\n",
       "      <td>82</td>\n",
       "      <td>1977</td>\n",
       "    </tr>\n",
       "  </tbody>\n",
       "</table>\n",
       "</div>"
      ],
      "text/plain": [
       "    Unnamed: 0               Player   Tm   G  Year\n",
       "13           1  Kareem Abdul-Jabbar  LAL  82  1977"
      ]
     },
     "execution_count": 48,
     "metadata": {},
     "output_type": "execute_result"
    }
   ],
   "source": [
    "one = pd.read_csv(files[0])\n",
    "one[\"Player\"] = one[\"Player\"].apply(lambda x: \"\".join(x.split(\"*\")[0]))\n",
    "one[one[\"Player\"] == \"Kareem Abdul-Jabbar\"]"
   ]
  },
  {
   "cell_type": "code",
   "execution_count": 35,
   "metadata": {},
   "outputs": [
    {
     "data": {
      "text/plain": [
       "['Walt Frazer']"
      ]
     },
     "execution_count": 35,
     "metadata": {},
     "output_type": "execute_result"
    }
   ],
   "source": [
    "a = \"Bob Cousy*\"\n",
    "b = \"Walt Frazer\"\n",
    "\n",
    "b.split('*')"
   ]
  },
  {
   "cell_type": "code",
   "execution_count": 12,
   "metadata": {},
   "outputs": [],
   "source": [
    "dataframes = []\n",
    "\n",
    "for file in files:\n",
    "    dataframes.append(pd.read_csv(file))"
   ]
  },
  {
   "cell_type": "code",
   "execution_count": 15,
   "metadata": {},
   "outputs": [
    {
     "data": {
      "text/plain": [
       "(19489, 4)"
      ]
     },
     "execution_count": 15,
     "metadata": {},
     "output_type": "execute_result"
    }
   ],
   "source": [
    "mega_frame = pd.concat(dataframes)\n",
    "mega_frame.to_c"
   ]
  },
  {
   "cell_type": "code",
   "execution_count": null,
   "metadata": {},
   "outputs": [],
   "source": []
  }
 ],
 "metadata": {
  "kernelspec": {
   "display_name": "Python 3",
   "language": "python",
   "name": "python3"
  },
  "language_info": {
   "codemirror_mode": {
    "name": "ipython",
    "version": 3
   },
   "file_extension": ".py",
   "mimetype": "text/x-python",
   "name": "python",
   "nbconvert_exporter": "python",
   "pygments_lexer": "ipython3",
   "version": "3.7.1"
  }
 },
 "nbformat": 4,
 "nbformat_minor": 2
}
