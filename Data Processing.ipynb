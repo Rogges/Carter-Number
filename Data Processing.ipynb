{
 "cells": [
  {
   "cell_type": "code",
   "execution_count": 4,
   "metadata": {},
   "outputs": [],
   "source": [
    "import re\n",
    "import glob\n",
    "import pandas as pd\n",
    "import os\n",
    "import requests\n",
    "from bs4 import BeautifulSoup as bs"
   ]
  },
  {
   "cell_type": "code",
   "execution_count": 55,
   "metadata": {},
   "outputs": [],
   "source": [
    "def get_player_id(year):\n",
    "    '''\n",
    "    Get the player ids from basketball reference for \n",
    "    the totals table in a given year\n",
    "    @param int year: the year for a player\n",
    "    @rtype list: list of player ids \n",
    "    '''\n",
    "    url = 'http://www.basketball-reference.com/leagues/NBA_{}_totals.html'.format(year)\n",
    "    website = requests.get(url).text\n",
    "    soup = bs(website, 'lxml')\n",
    "    table = soup.find_all('table')[0]\n",
    "    rows = table.find_all('tr')[1:]\n",
    "    ids = [i.find_all('td') for i in rows]\n",
    "    id_list = [i[0]['data-append-csv'] for i in ids if len(i)>0]\n",
    "    return id_list"
   ]
  },
  {
   "cell_type": "code",
   "execution_count": 16,
   "metadata": {},
   "outputs": [],
   "source": [
    "path = os.getcwd() + \"\\Season Data 2\"\n",
    "\n",
    "files = glob.glob(path + \"/*.csv\")"
   ]
  },
  {
   "cell_type": "code",
   "execution_count": 64,
   "metadata": {},
   "outputs": [],
   "source": [
    "for file in files:\n",
    "    data = pd.read_csv(file)\n",
    "    year = file.split('_')[-1].split('.')[0]\n",
    "    data[\"Year\"] = year\n",
    "    primary_list = get_player_id(year)\n",
    "    data[\"ID\"] = primary_list\n",
    "    data = data[data[\"G\"] != 0]\n",
    "    data = data[[\"Player\", \"Tm\", \"G\", \"Year\", \"ID\"]]\n",
    "    data = data[data[\"Tm\"] != \"TOT\"]\n",
    "    data = data.sort_values(by = [\"G\"], ascending = False).drop_duplicates([\"Player\"], keep = \"first\")\n",
    "    data[\"Player\"] = data[\"Player\"].apply(lambda x: \"\".join(x.split(\"*\")[0]))\n",
    "    data.to_csv(file)"
   ]
  },
  {
   "cell_type": "code",
   "execution_count": 65,
   "metadata": {},
   "outputs": [],
   "source": [
    "dataframes = []\n",
    "\n",
    "for file in files:\n",
    "    dataframes.append(pd.read_csv(file))"
   ]
  },
  {
   "cell_type": "code",
   "execution_count": 66,
   "metadata": {},
   "outputs": [],
   "source": [
    "mega_frame = pd.concat(dataframes)\n",
    "mega_frame.to_csv(\"Full-table.csv\")"
   ]
  },
  {
   "cell_type": "code",
   "execution_count": null,
   "metadata": {},
   "outputs": [],
   "source": []
  }
 ],
 "metadata": {
  "kernelspec": {
   "display_name": "Python 3",
   "language": "python",
   "name": "python3"
  },
  "language_info": {
   "codemirror_mode": {
    "name": "ipython",
    "version": 3
   },
   "file_extension": ".py",
   "mimetype": "text/x-python",
   "name": "python",
   "nbconvert_exporter": "python",
   "pygments_lexer": "ipython3",
   "version": "3.7.3"
  }
 },
 "nbformat": 4,
 "nbformat_minor": 2
}
